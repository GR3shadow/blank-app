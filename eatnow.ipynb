{
  "nbformat": 4,
  "nbformat_minor": 0,
  "metadata": {
    "colab": {
      "provenance": [],
      "authorship_tag": "ABX9TyPLWwlPiCJ0A11iVslii0Fl",
      "include_colab_link": true
    },
    "kernelspec": {
      "name": "python3",
      "display_name": "Python 3"
    },
    "language_info": {
      "name": "python"
    }
  },
  "cells": [
    {
      "cell_type": "markdown",
      "metadata": {
        "id": "view-in-github",
        "colab_type": "text"
      },
      "source": [
        "<a href=\"https://colab.research.google.com/github/GR3shadow/blank-app/blob/main/eatnow.ipynb\" target=\"_parent\"><img src=\"https://colab.research.google.com/assets/colab-badge.svg\" alt=\"Open In Colab\"/></a>"
      ]
    },
    {
      "cell_type": "code",
      "source": [
        "!pip install streamlit -q"
      ],
      "metadata": {
        "id": "G18kPsTCwUMo"
      },
      "execution_count": 32,
      "outputs": []
    },
    {
      "cell_type": "code",
      "source": [
        "!pip install streamlit -lottie"
      ],
      "metadata": {
        "colab": {
          "base_uri": "https://localhost:8080/"
        },
        "id": "MQSUYh1Twft_",
        "outputId": "d46b903c-ae0b-4b3a-bf2a-dca47ad7d19b"
      },
      "execution_count": 33,
      "outputs": [
        {
          "output_type": "stream",
          "name": "stdout",
          "text": [
            "\n",
            "Usage:   \n",
            "  pip3 install [options] <requirement specifier> [package-index-options] ...\n",
            "  pip3 install [options] -r <requirements file> [package-index-options] ...\n",
            "  pip3 install [options] [-e] <vcs project url> ...\n",
            "  pip3 install [options] [-e] <local project path> ...\n",
            "  pip3 install [options] <archive url/path> ...\n",
            "\n",
            "no such option: -l\n"
          ]
        }
      ]
    },
    {
      "cell_type": "code",
      "source": [
        "!pip install pillow"
      ],
      "metadata": {
        "colab": {
          "base_uri": "https://localhost:8080/"
        },
        "id": "IEEzpGSgwqQI",
        "outputId": "b4ac3900-5178-41f8-c3e8-0538668a96a3"
      },
      "execution_count": 34,
      "outputs": [
        {
          "output_type": "stream",
          "name": "stdout",
          "text": [
            "Requirement already satisfied: pillow in /usr/local/lib/python3.10/dist-packages (11.0.0)\n"
          ]
        }
      ]
    },
    {
      "cell_type": "code",
      "source": [
        "%%writefile app.Py\n",
        "\n",
        "import streamlit as st\n",
        "import requests\n",
        "import streamlit_lottie as st_lottie\n",
        "from PIL import Image\n",
        "# funcion para nuestra animacion\n",
        "def load_lottieurl(url):\n",
        "  r = requests.get(url)\n",
        "  if r.status_code != 200:\n",
        "    return None\n",
        "    return r.json()\n",
        "\n",
        "lottie_coding = load_lottieurl(\"https://lottie.host/d57d432b-a793-416b-850d-5c84e10272e3/golqvkZ4hb.json\")\n",
        "image_video = image.open(\"/content/EATNOW.PNG\")\n",
        "\n",
        "with st.container():\n",
        "  st.subheader(\"Hola! bienvenidos a EatNow :wave:\")\n",
        "  st.title(\"descubre la variedad de restaurantes en nuestro menu\")\n",
        "  st.write(\"Bienvenido a EatNow\")\n",
        "\n",
        "with st.container():\n",
        "  st.write(\"---\")\n",
        "  left_colunm, right_column = st.columns(2)\n",
        "  with left_column:\n",
        "    st.header(\"Que es EatNow?\")\n",
        "    st.write(\"EatNow es una aplicación que permite a los usuarios realizar pedidos de comida a través de un navegador web.\")\n",
        "\n",
        "\n",
        "\n",
        "\n",
        "\n",
        "\n"
      ],
      "metadata": {
        "colab": {
          "base_uri": "https://localhost:8080/"
        },
        "id": "ieaGIJZsxN7Y",
        "outputId": "d6fb513d-f9d7-40c6-a6c9-f94f17e20c01"
      },
      "execution_count": 35,
      "outputs": [
        {
          "output_type": "stream",
          "name": "stdout",
          "text": [
            "Overwriting app.Py\n"
          ]
        }
      ]
    },
    {
      "cell_type": "code",
      "source": [
        "!streamlit run app.Py & npx localtunnel --port 8503"
      ],
      "metadata": {
        "colab": {
          "base_uri": "https://localhost:8080/"
        },
        "id": "HCpaVsLM-E56",
        "outputId": "1555a4e0-d6cd-419e-bad0-ee5efeb4d9b4"
      },
      "execution_count": null,
      "outputs": [
        {
          "output_type": "stream",
          "name": "stdout",
          "text": [
            "Usage: streamlit run [OPTIONS] TARGET [ARGS]...\n",
            "Try 'streamlit run --help' for help.\n",
            "\n",
            "Error: Streamlit requires raw Python (.py) files, not .Py.\n",
            "For more information, please see https://docs.streamlit.io\n",
            "\u001b[1G\u001b[0JNeed to install the following packages:\n",
            "  localtunnel@2.0.2\n",
            "Ok to proceed? (y) \u001b[20G"
          ]
        }
      ]
    },
    {
      "cell_type": "code",
      "source": [
        "!localtunnel@2.0.2"
      ],
      "metadata": {
        "colab": {
          "base_uri": "https://localhost:8080/"
        },
        "id": "MLj7A-oL--WT",
        "outputId": "2fa1a488-4684-4410-9f69-9f460424adb7"
      },
      "execution_count": 38,
      "outputs": [
        {
          "output_type": "stream",
          "name": "stdout",
          "text": [
            "/bin/bash: line 1: localtunnel@2.0.2: command not found\n"
          ]
        }
      ]
    }
  ]
}